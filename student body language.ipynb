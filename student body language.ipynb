{
 "cells": [
  {
   "cell_type": "code",
   "execution_count": 1,
   "id": "c35b40fa",
   "metadata": {},
   "outputs": [],
   "source": [
    "#!pip install mediapipe opencv-python pandas scikit-learn keras tensorflow tflite"
   ]
  },
  {
   "cell_type": "code",
   "execution_count": 2,
   "id": "0c68a0ee",
   "metadata": {
    "scrolled": true
   },
   "outputs": [
    {
     "name": "stdout",
     "output_type": "stream",
     "text": [
      "WARNING:tensorflow:From C:\\Users\\nanda\\anaconda3\\Lib\\site-packages\\keras\\src\\losses.py:2976: The name tf.losses.sparse_softmax_cross_entropy is deprecated. Please use tf.compat.v1.losses.sparse_softmax_cross_entropy instead.\n",
      "\n"
     ]
    }
   ],
   "source": [
    "import mediapipe as mp\n",
    "import cv2\n",
    "import os\n",
    "import csv\n",
    "import numpy as np\n",
    "import matplotlib.pyplot as plt\n",
    "import face_recognition"
   ]
  },
  {
   "cell_type": "code",
   "execution_count": 3,
   "id": "09abcc04",
   "metadata": {},
   "outputs": [],
   "source": [
    "mp_drawing = mp.solutions.drawing_utils # Drawing helpers\n",
    "mp_holistic = mp.solutions.holistic # Mediapipe Solutions"
   ]
  },
  {
   "cell_type": "markdown",
   "id": "1b58a35a",
   "metadata": {},
   "source": [
    "# Creating CSV file to collect coordinates"
   ]
  },
  {
   "cell_type": "code",
   "execution_count": 4,
   "id": "aadcd16c",
   "metadata": {},
   "outputs": [],
   "source": [
    "# landmarks = ['class']\n",
    "# for val in range(1, 501+1):\n",
    "#     landmarks += ['x{}'.format(val), 'y{}'.format(val), 'z{}'.format(val), 'v{}'.format(val)]\n",
    "    \n",
    "# with open('student_coords.csv', mode='w', newline='') as f:\n",
    "#     csv_writer = csv.writer(f, delimiter=',', quotechar='\"', quoting=csv.QUOTE_MINIMAL)\n",
    "#     csv_writer.writerow(landmarks)"
   ]
  },
  {
   "cell_type": "markdown",
   "id": "c4aac45c",
   "metadata": {},
   "source": [
    "# Writing all coordinates of multiple student emotions from dataset into csv"
   ]
  },
  {
   "cell_type": "code",
   "execution_count": 5,
   "id": "96f2d681",
   "metadata": {
    "scrolled": true
   },
   "outputs": [],
   "source": [
    "\n",
    "# data_path = 'C:\\\\Users\\\\nanda\\\\Downloads\\\\students'\n",
    "# data_dir_list = os.listdir(data_path)\n",
    "# # Initiate holistic model\n",
    "\n",
    "# with mp_holistic.Holistic(min_detection_confidence=0.5, min_tracking_confidence=0.5) as holistic:\n",
    "#     c=0\n",
    "#     for dataset in data_dir_list:\n",
    "#         img_path=os.listdir(data_path+'/'+dataset)\n",
    "#         class_name=dataset\n",
    "#         for img in img_path:\n",
    "#             image=cv2.imread(data_path+'/'+dataset+'/'+img)\n",
    "            \n",
    "#             # Recolor Feed\n",
    "#             image = cv2.cvtColor(image, cv2.COLOR_BGR2RGB)\n",
    "#             image.flags.writeable = False        \n",
    "\n",
    "#             # Make Detections\n",
    "#             results = holistic.process(image)\n",
    "#             # print(results.face_landmarks)\n",
    "\n",
    "#             # face_landmarks, pose_landmarks, left_hand_landmarks, right_hand_landmarks\n",
    "\n",
    "#             # Recolor image back to BGR for rendering\n",
    "#             image.flags.writeable = True   \n",
    "#             image = cv2.cvtColor(image, cv2.COLOR_RGB2BGR)\n",
    "\n",
    "#             # 1. Draw face landmarks\n",
    "#             mp_drawing.draw_landmarks(image, results.face_landmarks, mp_holistic.FACEMESH_CONTOURS, \n",
    "#                                      mp_drawing.DrawingSpec(color=(80,110,10), thickness=1, circle_radius=1),\n",
    "#                                      mp_drawing.DrawingSpec(color=(80,256,121), thickness=1, circle_radius=1)\n",
    "#                                      )\n",
    "\n",
    "#             # 2. Right hand\n",
    "#             mp_drawing.draw_landmarks(image, results.right_hand_landmarks, mp_holistic.HAND_CONNECTIONS, \n",
    "#                                      mp_drawing.DrawingSpec(color=(80,22,10), thickness=2, circle_radius=4),\n",
    "#                                      mp_drawing.DrawingSpec(color=(80,44,121), thickness=2, circle_radius=2)\n",
    "#                                      )\n",
    "\n",
    "#             # 3. Left Hand\n",
    "#             mp_drawing.draw_landmarks(image, results.left_hand_landmarks, mp_holistic.HAND_CONNECTIONS, \n",
    "#                                      mp_drawing.DrawingSpec(color=(121,22,76), thickness=2, circle_radius=4),\n",
    "#                                      mp_drawing.DrawingSpec(color=(121,44,250), thickness=2, circle_radius=2)\n",
    "#                                      )\n",
    "\n",
    "#             # 4. Pose Detections\n",
    "#             mp_drawing.draw_landmarks(image, results.pose_landmarks, mp_holistic.POSE_CONNECTIONS, \n",
    "#                                      mp_drawing.DrawingSpec(color=(245,117,66), thickness=2, circle_radius=4),\n",
    "#                                      mp_drawing.DrawingSpec(color=(245,66,230), thickness=2, circle_radius=2)\n",
    "#                                      )\n",
    "#             try:\n",
    "#                 c+=1\n",
    "#                 print(c)\n",
    "#                 # Extract Pose landmarks\n",
    "#                 pose = results.pose_landmarks.landmark\n",
    "#                 pose_row = list(np.array([[landmark.x, landmark.y, landmark.z, landmark.visibility] for landmark in pose]).flatten())\n",
    "\n",
    "#                 # Extract Face landmarks\n",
    "#                 face = results.face_landmarks.landmark\n",
    "#                 face_row = list(np.array([[landmark.x, landmark.y, landmark.z, landmark.visibility] for landmark in face]).flatten())\n",
    "\n",
    "#                 # Concate rows\n",
    "#                 row = pose_row+face_row\n",
    "\n",
    "#                 # Append class name \n",
    "#                 row.insert(0, class_name)\n",
    "\n",
    "#                 # Export to CSV\n",
    "#                 with open('student_coords.csv', mode='a', newline='') as f:\n",
    "#                     csv_writer = csv.writer(f, delimiter=',', quotechar='\"', quoting=csv.QUOTE_MINIMAL)\n",
    "#                     csv_writer.writerow(row)\n",
    "#             except:\n",
    "#                 pass\n",
    "            "
   ]
  },
  {
   "cell_type": "markdown",
   "id": "01b53dab",
   "metadata": {},
   "source": [
    "# Reading CSV and Splitting data"
   ]
  },
  {
   "cell_type": "code",
   "execution_count": 6,
   "id": "72872945",
   "metadata": {},
   "outputs": [],
   "source": [
    "import pandas as pd\n",
    "from sklearn.model_selection import train_test_split\n",
    "\n",
    "df=pd.read_csv('student_coords.csv')\n",
    "X=df.drop('class',axis=1)\n",
    "y=df['class']\n",
    "\n",
    "X_train, X_test, y_train, y_test = train_test_split(X, y, test_size=0.3, random_state=1234)"
   ]
  },
  {
   "cell_type": "markdown",
   "id": "7659bf0b",
   "metadata": {},
   "source": [
    "# Training multiple models with recorded data"
   ]
  },
  {
   "cell_type": "code",
   "execution_count": 7,
   "id": "b5480e70",
   "metadata": {},
   "outputs": [],
   "source": [
    "# from sklearn.pipeline import make_pipeline \n",
    "# from sklearn.preprocessing import StandardScaler \n",
    "# from sklearn.linear_model import LogisticRegression, RidgeClassifier\n",
    "# from sklearn.ensemble import RandomForestClassifier, GradientBoostingClassifier\n",
    "\n",
    "\n",
    "\n",
    "# pipelines = {\n",
    "#     'lr':make_pipeline(StandardScaler(), LogisticRegression(max_iter=5000)),\n",
    "#     'rc':make_pipeline(StandardScaler(), RidgeClassifier()),\n",
    "#     'rf':make_pipeline(StandardScaler(), RandomForestClassifier()),\n",
    "#     'gb':make_pipeline(StandardScaler(), GradientBoostingClassifier()),\n",
    "# }\n",
    "\n",
    "\n"
   ]
  },
  {
   "cell_type": "markdown",
   "id": "66784417",
   "metadata": {},
   "source": [
    "# Checking accuracy and choosing best model"
   ]
  },
  {
   "cell_type": "code",
   "execution_count": 8,
   "id": "b276b532",
   "metadata": {},
   "outputs": [],
   "source": [
    "# import pickle\n",
    "\n",
    "# fit_models = {}\n",
    "# for algo, pipeline in pipelines.items():\n",
    "#     model = pipeline.fit(X_train, y_train)\n",
    "#     fit_models[algo] = model\n",
    "\n",
    "\n",
    "\n",
    "#fit_models\n",
    "\n",
    "# for algo, model in fit_models.items():\n",
    "#     yhat = model.predict(X_test)\n",
    "#     print(algo, accuracy_score(y_test, yhat))\n",
    "\n",
    "\n",
    "# with open('student_body_language.pkl', 'wb') as f:\n",
    "#     pickle.dump(fit_models['rf'], f)"
   ]
  },
  {
   "cell_type": "markdown",
   "id": "4488c03f",
   "metadata": {},
   "source": [
    "# Loading Model"
   ]
  },
  {
   "cell_type": "code",
   "execution_count": 9,
   "id": "86a5b41c",
   "metadata": {},
   "outputs": [],
   "source": [
    "from sklearn.metrics import accuracy_score # Accuracy metrics \n",
    "import pickle \n",
    "\n",
    "with open('student_body_language.pkl', 'rb') as f:\n",
    "    model = pickle.load(f)"
   ]
  },
  {
   "cell_type": "markdown",
   "id": "27cfc7c5",
   "metadata": {},
   "source": [
    "# Testing with live video"
   ]
  },
  {
   "cell_type": "code",
   "execution_count": 10,
   "id": "cf9e57a1",
   "metadata": {},
   "outputs": [],
   "source": [
    "# cap = cv2.VideoCapture(1)\n",
    "# # Initiate holistic model\n",
    "# with mp_holistic.Holistic(min_detection_confidence=0.5, min_tracking_confidence=0.5) as holistic:\n",
    "    \n",
    "#     while cap.isOpened():\n",
    "#         ret, frame = cap.read()\n",
    "        \n",
    "#         # Recolor Feed\n",
    "#         image = cv2.cvtColor(frame, cv2.COLOR_BGR2RGB)\n",
    "#         image.flags.writeable = False        \n",
    "        \n",
    "#         # Make Detections\n",
    "#         results = holistic.process(image)\n",
    "#         # print(results.face_landmarks)\n",
    "        \n",
    "#         # face_landmarks, pose_landmarks, left_hand_landmarks, right_hand_landmarks\n",
    "        \n",
    "#         # Recolor image back to BGR for rendering\n",
    "#         image.flags.writeable = True   \n",
    "#         image = cv2.cvtColor(image, cv2.COLOR_RGB2BGR)\n",
    "        \n",
    "#         # 1. Draw face landmarks\n",
    "#         mp_drawing.draw_landmarks(image, results.face_landmarks, mp_holistic.FACEMESH_CONTOURS, \n",
    "#                                  mp_drawing.DrawingSpec(color=(80,110,10), thickness=1, circle_radius=1),\n",
    "#                                  mp_drawing.DrawingSpec(color=(80,256,121), thickness=1, circle_radius=1)\n",
    "#                                  )\n",
    "        \n",
    "#         # 2. Right hand\n",
    "#         mp_drawing.draw_landmarks(image, results.right_hand_landmarks, mp_holistic.HAND_CONNECTIONS, \n",
    "#                                  mp_drawing.DrawingSpec(color=(80,22,10), thickness=2, circle_radius=4),\n",
    "#                                  mp_drawing.DrawingSpec(color=(80,44,121), thickness=2, circle_radius=2)\n",
    "#                                  )\n",
    "\n",
    "#         # 3. Left Hand\n",
    "#         mp_drawing.draw_landmarks(image, results.left_hand_landmarks, mp_holistic.HAND_CONNECTIONS, \n",
    "#                                  mp_drawing.DrawingSpec(color=(121,22,76), thickness=2, circle_radius=4),\n",
    "#                                  mp_drawing.DrawingSpec(color=(121,44,250), thickness=2, circle_radius=2)\n",
    "#                                  )\n",
    "\n",
    "#         # 4. Pose Detections\n",
    "#         mp_drawing.draw_landmarks(image, results.pose_landmarks, mp_holistic.POSE_CONNECTIONS, \n",
    "#                                  mp_drawing.DrawingSpec(color=(245,117,66), thickness=2, circle_radius=4),\n",
    "#                                  mp_drawing.DrawingSpec(color=(245,66,230), thickness=2, circle_radius=2)\n",
    "#                                  )\n",
    "#         # Export coordinates\n",
    "#         try:\n",
    "#             # Extract Pose landmarks\n",
    "#             pose = results.pose_landmarks.landmark\n",
    "#             pose_row = list(np.array([[landmark.x, landmark.y, landmark.z, landmark.visibility] for landmark in pose]).flatten())\n",
    "            \n",
    "#             # Extract Face landmarks\n",
    "#             face = results.face_landmarks.landmark\n",
    "#             face_row = list(np.array([[landmark.x, landmark.y, landmark.z, landmark.visibility] for landmark in face]).flatten())\n",
    "            \n",
    "#             # Concate rows\n",
    "#             row = pose_row+face_row\n",
    "            \n",
    "#             x=pd.DataFrame([row])\n",
    "            \n",
    "#             body_lang_class=model.predict(x)[0]\n",
    "#             #body_lang_class_prob=model.predict_proba(x)[0]\n",
    "#             print(body_lang_class)\n",
    "            \n",
    "            \n",
    "# #             #grab ear coords\n",
    "# #             coords = tuple(np.multiply(\n",
    "# #                             np.array(\n",
    "# #                                 (results.pose_landmarks.landmark[mp_holistic.PoseLandmark.LEFT_EAR].x, \n",
    "# #                                  results.pose_landmarks.landmark[mp_holistic.PoseLandmark.LEFT_EAR].y))\n",
    "# #                         , [640,480]).astype(int))\n",
    "            \n",
    "#             cv2.rectangle(image, \n",
    "#                           (0,0), \n",
    "#                           (250,50), \n",
    "#                           (245, 117, 16), -1)\n",
    "            \n",
    "#             cv2.putText(image, body_lang_class,(10,25), \n",
    "#                         cv2.FONT_HERSHEY_SIMPLEX, 1, (255, 255, 255), 2, cv2.LINE_AA)\n",
    "            \n",
    "            \n",
    "#         except:\n",
    "#             pass\n",
    "                        \n",
    "#         cv2.imshow('Raw Webcam Feed', image)\n",
    "\n",
    "#         if cv2.waitKey(10) & 0xFF == ord('q'):\n",
    "#             break\n",
    "\n",
    "# cap.release()\n",
    "# cv2.destroyAllWindows()"
   ]
  },
  {
   "cell_type": "markdown",
   "id": "9db3c394",
   "metadata": {},
   "source": [
    "# Testing with image"
   ]
  },
  {
   "cell_type": "code",
   "execution_count": 13,
   "id": "eac5dd6b",
   "metadata": {},
   "outputs": [
    {
     "name": "stdout",
     "output_type": "stream",
     "text": [
      "<class 'numpy.ndarray'>\n",
      "bored [0.03 0.63 0.   0.05 0.2  0.09]\n"
     ]
    },
    {
     "name": "stderr",
     "output_type": "stream",
     "text": [
      "C:\\Users\\nanda\\anaconda3\\Lib\\site-packages\\sklearn\\base.py:464: UserWarning: X does not have valid feature names, but StandardScaler was fitted with feature names\n",
      "  warnings.warn(\n",
      "C:\\Users\\nanda\\anaconda3\\Lib\\site-packages\\sklearn\\base.py:464: UserWarning: X does not have valid feature names, but StandardScaler was fitted with feature names\n",
      "  warnings.warn(\n"
     ]
    }
   ],
   "source": [
    "with mp_holistic.Holistic(min_detection_confidence=0.5, min_tracking_confidence=0.5) as holistic:\n",
    "    image=cv2.imread(\"C:\\\\Users\\\\nanda\\\\Downloads\\\\students\\\\bored\\\\0487.jpg\")\n",
    "    results = holistic.process(image)\n",
    "        #1. Draw face landmarks\n",
    "    mp_drawing.draw_landmarks(image, results.face_landmarks, mp_holistic.FACEMESH_CONTOURS, \n",
    "                                 mp_drawing.DrawingSpec(color=(80,110,10), thickness=1, circle_radius=1),\n",
    "                                 mp_drawing.DrawingSpec(color=(80,256,121), thickness=1, circle_radius=1)\n",
    "                                 )\n",
    "        \n",
    "        # 2. Right hand\n",
    "    mp_drawing.draw_landmarks(image, results.right_hand_landmarks, mp_holistic.HAND_CONNECTIONS, \n",
    "                                 mp_drawing.DrawingSpec(color=(80,22,10), thickness=2, circle_radius=4),\n",
    "                                 mp_drawing.DrawingSpec(color=(80,44,121), thickness=2, circle_radius=2)\n",
    "                                 )\n",
    "\n",
    "        # 3. Left Hand\n",
    "    mp_drawing.draw_landmarks(image, results.left_hand_landmarks, mp_holistic.HAND_CONNECTIONS, \n",
    "                                 mp_drawing.DrawingSpec(color=(121,22,76), thickness=2, circle_radius=4),\n",
    "                                 mp_drawing.DrawingSpec(color=(121,44,250), thickness=2, circle_radius=2)\n",
    "                                 )\n",
    "\n",
    "        # 4. Pose Detections\n",
    "    mp_drawing.draw_landmarks(image, results.pose_landmarks, mp_holistic.POSE_CONNECTIONS, \n",
    "                                 mp_drawing.DrawingSpec(color=(245,117,66), thickness=2, circle_radius=4),\n",
    "                                 mp_drawing.DrawingSpec(color=(245,66,230), thickness=2, circle_radius=2)\n",
    "                                 )\n",
    "    pose = results.pose_landmarks.landmark\n",
    "    pose_row = list(np.array([[landmark.x, landmark.y, landmark.z, landmark.visibility] for landmark in pose]).flatten())\n",
    "    face = results.face_landmarks.landmark\n",
    "    face_row = list(np.array([[landmark.x, landmark.y, landmark.z, landmark.visibility] for landmark in face]).flatten())\n",
    "    row = pose_row+face_row\n",
    "    x=pd.DataFrame([row])\n",
    "    body_lang_class=model.predict(x)[0]\n",
    "    body_lang_class_prob=model.predict_proba(x)[0]\n",
    "    print(type(body_lang_class_prob))\n",
    "    print(body_lang_class,body_lang_class_prob)"
   ]
  },
  {
   "cell_type": "code",
   "execution_count": null,
   "id": "586147e8",
   "metadata": {},
   "outputs": [],
   "source": []
  }
 ],
 "metadata": {
  "kernelspec": {
   "display_name": "Python 3 (ipykernel)",
   "language": "python",
   "name": "python3"
  },
  "language_info": {
   "codemirror_mode": {
    "name": "ipython",
    "version": 3
   },
   "file_extension": ".py",
   "mimetype": "text/x-python",
   "name": "python",
   "nbconvert_exporter": "python",
   "pygments_lexer": "ipython3",
   "version": "3.11.5"
  }
 },
 "nbformat": 4,
 "nbformat_minor": 5
}
