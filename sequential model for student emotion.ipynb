{
 "cells": [
  {
   "cell_type": "code",
   "execution_count": 1,
   "metadata": {},
   "outputs": [
    {
     "name": "stdout",
     "output_type": "stream",
     "text": [
      "WARNING:tensorflow:From C:\\Users\\nanda\\anaconda3\\Lib\\site-packages\\keras\\src\\losses.py:2976: The name tf.losses.sparse_softmax_cross_entropy is deprecated. Please use tf.compat.v1.losses.sparse_softmax_cross_entropy instead.\n",
      "\n"
     ]
    }
   ],
   "source": [
    "import pandas as pd\n",
    "import numpy as np\n",
    "import cv2\n",
    "from tensorflow import keras\n",
    "import tensorflow as tf\n",
    "import os"
   ]
  },
  {
   "cell_type": "code",
   "execution_count": 2,
   "metadata": {},
   "outputs": [],
   "source": [
    "import matplotlib.pyplot as plt"
   ]
  },
  {
   "cell_type": "code",
   "execution_count": 3,
   "metadata": {},
   "outputs": [],
   "source": [
    "from sklearn.utils import shuffle\n",
    "from sklearn.model_selection import train_test_split"
   ]
  },
  {
   "cell_type": "code",
   "execution_count": 4,
   "metadata": {},
   "outputs": [],
   "source": [
    "import tensorflow.keras.utils as utils"
   ]
  },
  {
   "cell_type": "code",
   "execution_count": 5,
   "metadata": {},
   "outputs": [],
   "source": [
    "from tensorflow.keras.models import Sequential\n",
    "from tensorflow.keras.layers import Dense , Activation , Dropout ,Flatten,  MaxPooling2D, Conv2D"
   ]
  },
  {
   "cell_type": "markdown",
   "metadata": {},
   "source": [
    "# Student Dataset"
   ]
  },
  {
   "cell_type": "code",
   "execution_count": 6,
   "metadata": {},
   "outputs": [
    {
     "name": "stdout",
     "output_type": "stream",
     "text": [
      "6 classes are ['bored', 'confused', 'drowsy', 'frustrated', 'interested', 'Looking Away']\n",
      "number of images in bored =  250\n",
      "number of images in confused =  250\n",
      "number of images in drowsy =  250\n",
      "number of images in frustrated =  250\n",
      "number of images in interested =  250\n",
      "number of images in Looking Away =  250\n",
      "(1500, 48, 48, 3)\n",
      "num of images  1500\n"
     ]
    }
   ],
   "source": [
    "data_path = 'C:\\\\Users\\\\nanda\\\\Downloads\\\\students'\n",
    "\n",
    "data_dir_list = os.listdir(data_path)\n",
    "#data_dir_list\n",
    "print(str(len(data_dir_list))+' classes are',data_dir_list)\n",
    "\n",
    "img_data = []\n",
    "for dataset in data_dir_list:\n",
    "    img_list = os.listdir(data_path+'/'+dataset)\n",
    "    print('number of images in '+str(dataset)+' = ',len(img_list))\n",
    "    for img in img_list:\n",
    "        img = cv2.imread(data_path+'/'+dataset+'/'+img)\n",
    "        img = cv2.resize(img,(48,48))\n",
    "        \n",
    "        img_data.append(img)\n",
    "\n",
    "# plt.imshow(img_data[0])\n",
    "img_data = np.array(img_data)\n",
    "# print(img_data)\n",
    "# print(img_data[0].shape)\n",
    "print(img_data.shape)\n",
    "# Normalization (essential for neural nets)\n",
    "img_data = img_data.astype('float32')\n",
    "img_data = img_data/255\n",
    "# img_data.shape\n",
    "# print('shape of image', (img_data.shape[1],img_data.shape[2]))\n",
    "print('num of images ', img_data.shape[0])"
   ]
  },
  {
   "cell_type": "markdown",
   "metadata": {},
   "source": [
    "# Labeling images"
   ]
  },
  {
   "cell_type": "code",
   "execution_count": 7,
   "metadata": {},
   "outputs": [
    {
     "name": "stdout",
     "output_type": "stream",
     "text": [
      "[0 0 0 ... 5 5 5]\n"
     ]
    },
    {
     "data": {
      "image/png": "[encoded data removed]",
      "text/plain": [
       "<Figure size 500x500 with 1 Axes>"
      ]
     },
     "metadata": {},
     "output_type": "display_data"
    },
    {
     "name": "stdout",
     "output_type": "stream",
     "text": [
      "bored\n"
     ]
    }
   ],
   "source": [
    "label_text = {0:'bored', 1:'confused', 2: 'drowsy',\n",
    "                         3:'frustrated', 4:'interested',\n",
    "                         5: 'Looking Away'}\n",
    "labels = np.ones((img_data.shape[0],),dtype='int64')\n",
    "\n",
    "labels[0:250]=0 \n",
    "labels[250:500]=1 \n",
    "labels[500:750]=2 \n",
    "labels[750:1000]=3 \n",
    "labels[1000:1250]=4 \n",
    "labels[1250:1500]=5 \n",
    "\n",
    "print(labels)\n",
    "\n",
    "def plotImages(images_arr):\n",
    "    fig,axes = plt.subplots(1,1,figsize=(5,5))\n",
    "    axes.imshow(images_arr)\n",
    "    axes.axis('off')\n",
    "    plt.tight_layout()\n",
    "    plt.show()\n",
    "    \n",
    "plotImages(img_data[0])\n",
    "print(label_text[labels[0]])"
   ]
  },
  {
   "cell_type": "markdown",
   "metadata": {},
   "source": [
    "# Creating CNN Model"
   ]
  },
  {
   "cell_type": "code",
   "execution_count": 8,
   "metadata": {},
   "outputs": [],
   "source": [
    "def create_model(optim):\n",
    "    input_shape=(48,48,3)\n",
    "\n",
    "    model = Sequential()\n",
    "    model.add(Conv2D(16, (5, 5), input_shape=input_shape, padding='same', activation = 'relu'))\n",
    "    model.add(MaxPooling2D(pool_size=(2, 2)))\n",
    "\n",
    "    model.add(Conv2D(32, (5, 5), padding='same', activation = 'relu'))\n",
    "    model.add(Activation('relu'))\n",
    "    model.add(MaxPooling2D(pool_size=(2, 2)))\n",
    "    \n",
    "    model.add(Conv2D(64, (3,3), activation = 'relu'))\n",
    "    model.add(MaxPooling2D(pool_size=(2, 2)))\n",
    "\n",
    "    model.add(Flatten())\n",
    "    model.add(Dense(128, activation = 'relu'))\n",
    "    model.add(Dropout(0.5))\n",
    "    model.add(Dense(6, activation = 'softmax'))\n",
    "\n",
    "    model.compile(loss='categorical_crossentropy', metrics=['accuracy'],optimizer=optim)\n",
    "    \n",
    "    return model\n",
    "\n"
   ]
  },
  {
   "cell_type": "markdown",
   "metadata": {},
   "source": [
    "# Model Training"
   ]
  },
  {
   "cell_type": "code",
   "execution_count": 9,
   "metadata": {},
   "outputs": [
    {
     "data": {
      "image/png": "[encoded data removed]",
      "text/plain": [
       "<Figure size 500x500 with 1 Axes>"
      ]
     },
     "metadata": {},
     "output_type": "display_data"
    },
    {
     "name": "stdout",
     "output_type": "stream",
     "text": [
      "[0. 0. 0. 1. 0. 0.]\n",
      "WARNING:tensorflow:From C:\\Users\\nanda\\anaconda3\\Lib\\site-packages\\keras\\src\\backend.py:873: The name tf.get_default_graph is deprecated. Please use tf.compat.v1.get_default_graph instead.\n",
      "\n",
      "WARNING:tensorflow:From C:\\Users\\nanda\\anaconda3\\Lib\\site-packages\\keras\\src\\layers\\pooling\\max_pooling2d.py:161: The name tf.nn.max_pool is deprecated. Please use tf.nn.max_pool2d instead.\n",
      "\n",
      "\n",
      "\n",
      "\n",
      "Summary of model:\n",
      "Model: \"sequential\"\n",
      "_________________________________________________________________\n",
      " Layer (type)                Output Shape              Param #   \n",
      "=================================================================\n",
      " conv2d (Conv2D)             (None, 48, 48, 16)        1216      \n",
      "                                                                 \n",
      " max_pooling2d (MaxPooling2  (None, 24, 24, 16)        0         \n",
      " D)                                                              \n",
      "                                                                 \n",
      " conv2d_1 (Conv2D)           (None, 24, 24, 32)        12832     \n",
      "                                                                 \n",
      " activation (Activation)     (None, 24, 24, 32)        0         \n",
      "                                                                 \n",
      " max_pooling2d_1 (MaxPoolin  (None, 12, 12, 32)        0         \n",
      " g2D)                                                            \n",
      "                                                                 \n",
      " conv2d_2 (Conv2D)           (None, 10, 10, 64)        18496     \n",
      "                                                                 \n",
      " max_pooling2d_2 (MaxPoolin  (None, 5, 5, 64)          0         \n",
      " g2D)                                                            \n",
      "                                                                 \n",
      " flatten (Flatten)           (None, 1600)              0         \n",
      "                                                                 \n",
      " dense (Dense)               (None, 128)               204928    \n",
      "                                                                 \n",
      " dropout (Dropout)           (None, 128)               0         \n",
      "                                                                 \n",
      " dense_1 (Dense)             (None, 6)                 774       \n",
      "                                                                 \n",
      "=================================================================\n",
      "Total params: 238246 (930.65 KB)\n",
      "Trainable params: 238246 (930.65 KB)\n",
      "Non-trainable params: 0 (0.00 Byte)\n",
      "_________________________________________________________________\n",
      "\n",
      "\n",
      "\n",
      "Model Training:\n",
      "Epoch 1/100\n",
      "WARNING:tensorflow:From C:\\Users\\nanda\\anaconda3\\Lib\\site-packages\\keras\\src\\utils\\tf_utils.py:492: The name tf.ragged.RaggedTensorValue is deprecated. Please use tf.compat.v1.ragged.RaggedTensorValue instead.\n",
      "\n",
      "WARNING:tensorflow:From C:\\Users\\nanda\\anaconda3\\Lib\\site-packages\\keras\\src\\engine\\base_layer_utils.py:384: The name tf.executing_eagerly_outside_functions is deprecated. Please use tf.compat.v1.executing_eagerly_outside_functions instead.\n",
      "\n",
      "34/34 - 3s - loss: 1.1835 - accuracy: 0.5380 - val_loss: 0.5862 - val_accuracy: 0.9000 - lr: 0.0010 - 3s/epoch - 83ms/step\n",
      "Epoch 2/100\n",
      "34/34 - 1s - loss: 0.4741 - accuracy: 0.8120 - val_loss: 0.3183 - val_accuracy: 0.9167 - lr: 0.0010 - 755ms/epoch - 22ms/step\n",
      "Epoch 3/100\n",
      "34/34 - 1s - loss: 0.2861 - accuracy: 0.8935 - val_loss: 0.1967 - val_accuracy: 0.9333 - lr: 0.0010 - 756ms/epoch - 22ms/step\n",
      "Epoch 4/100\n",
      "34/34 - 1s - loss: 0.2042 - accuracy: 0.9213 - val_loss: 0.1842 - val_accuracy: 0.9000 - lr: 0.0010 - 749ms/epoch - 22ms/step\n",
      "Epoch 5/100\n",
      "34/34 - 1s - loss: 0.1783 - accuracy: 0.9278 - val_loss: 0.1260 - val_accuracy: 0.9500 - lr: 0.0010 - 735ms/epoch - 22ms/step\n",
      "Epoch 6/100\n",
      "34/34 - 1s - loss: 0.1516 - accuracy: 0.9407 - val_loss: 0.1223 - val_accuracy: 0.9417 - lr: 0.0010 - 754ms/epoch - 22ms/step\n",
      "Epoch 7/100\n",
      "34/34 - 1s - loss: 0.1294 - accuracy: 0.9519 - val_loss: 0.1510 - val_accuracy: 0.9500 - lr: 0.0010 - 755ms/epoch - 22ms/step\n",
      "Epoch 8/100\n",
      "34/34 - 1s - loss: 0.1348 - accuracy: 0.9491 - val_loss: 0.1376 - val_accuracy: 0.9500 - lr: 0.0010 - 841ms/epoch - 25ms/step\n",
      "Epoch 9/100\n",
      "34/34 - 1s - loss: 0.1092 - accuracy: 0.9556 - val_loss: 0.1235 - val_accuracy: 0.9500 - lr: 0.0010 - 748ms/epoch - 22ms/step\n",
      "Epoch 10/100\n",
      "34/34 - 1s - loss: 0.1015 - accuracy: 0.9556 - val_loss: 0.1854 - val_accuracy: 0.9250 - lr: 0.0010 - 744ms/epoch - 22ms/step\n",
      "Epoch 11/100\n",
      "34/34 - 1s - loss: 0.1217 - accuracy: 0.9509 - val_loss: 0.1335 - val_accuracy: 0.9333 - lr: 0.0010 - 772ms/epoch - 23ms/step\n",
      "Epoch 12/100\n",
      "\n",
      "Epoch 12: ReduceLROnPlateau reducing learning rate to 0.0005000000237487257.\n",
      "34/34 - 1s - loss: 0.1130 - accuracy: 0.9519 - val_loss: 0.1419 - val_accuracy: 0.9333 - lr: 0.0010 - 743ms/epoch - 22ms/step\n",
      "Epoch 13/100\n",
      "34/34 - 1s - loss: 0.1034 - accuracy: 0.9611 - val_loss: 0.1299 - val_accuracy: 0.9583 - lr: 5.0000e-04 - 727ms/epoch - 21ms/step\n",
      "Epoch 14/100\n",
      "34/34 - 1s - loss: 0.0951 - accuracy: 0.9630 - val_loss: 0.1212 - val_accuracy: 0.9417 - lr: 5.0000e-04 - 743ms/epoch - 22ms/step\n",
      "Epoch 15/100\n",
      "34/34 - 1s - loss: 0.0918 - accuracy: 0.9630 - val_loss: 0.1281 - val_accuracy: 0.9417 - lr: 5.0000e-04 - 821ms/epoch - 24ms/step\n",
      "Epoch 16/100\n",
      "34/34 - 1s - loss: 0.0888 - accuracy: 0.9593 - val_loss: 0.1206 - val_accuracy: 0.9500 - lr: 5.0000e-04 - 740ms/epoch - 22ms/step\n",
      "Epoch 17/100\n",
      "34/34 - 1s - loss: 0.0937 - accuracy: 0.9602 - val_loss: 0.1083 - val_accuracy: 0.9583 - lr: 5.0000e-04 - 738ms/epoch - 22ms/step\n",
      "Epoch 18/100\n",
      "34/34 - 1s - loss: 0.0887 - accuracy: 0.9630 - val_loss: 0.1511 - val_accuracy: 0.9500 - lr: 5.0000e-04 - 750ms/epoch - 22ms/step\n",
      "Epoch 19/100\n",
      "34/34 - 1s - loss: 0.0897 - accuracy: 0.9574 - val_loss: 0.1469 - val_accuracy: 0.9250 - lr: 5.0000e-04 - 782ms/epoch - 23ms/step\n",
      "Epoch 20/100\n",
      "\n",
      "Epoch 20: ReduceLROnPlateau reducing learning rate to 0.0002500000118743628.\n",
      "34/34 - 1s - loss: 0.0878 - accuracy: 0.9620 - val_loss: 0.1320 - val_accuracy: 0.9417 - lr: 5.0000e-04 - 839ms/epoch - 25ms/step\n",
      "Epoch 21/100\n",
      "34/34 - 1s - loss: 0.0832 - accuracy: 0.9648 - val_loss: 0.1339 - val_accuracy: 0.9417 - lr: 2.5000e-04 - 906ms/epoch - 27ms/step\n",
      "Epoch 22/100\n",
      "34/34 - 1s - loss: 0.0795 - accuracy: 0.9648 - val_loss: 0.1345 - val_accuracy: 0.9333 - lr: 2.5000e-04 - 1s/epoch - 30ms/step\n",
      "Epoch 23/100\n",
      "34/34 - 1s - loss: 0.0835 - accuracy: 0.9620 - val_loss: 0.1379 - val_accuracy: 0.9417 - lr: 2.5000e-04 - 819ms/epoch - 24ms/step\n",
      "Epoch 24/100\n",
      "Restoring model weights from the end of the best epoch: 13.\n",
      "34/34 - 1s - loss: 0.0823 - accuracy: 0.9602 - val_loss: 0.1410 - val_accuracy: 0.9500 - lr: 2.5000e-04 - 824ms/epoch - 24ms/step\n",
      "Epoch 24: early stopping\n"
     ]
    },
    {
     "data": {
      "text/plain": [
       "<keras.src.callbacks.History at 0x271ed5ba750>"
      ]
     },
     "execution_count": 9,
     "metadata": {},
     "output_type": "execute_result"
    }
   ],
   "source": [
    "from tensorflow.keras.preprocessing.image import ImageDataGenerator\n",
    "from tensorflow.keras.callbacks import ModelCheckpoint, EarlyStopping, ReduceLROnPlateau\n",
    "from sklearn.model_selection import cross_val_predict, cross_val_score\n",
    "from tensorflow.keras.optimizers import *\n",
    "\n",
    "aug = ImageDataGenerator(rotation_range=25, width_shift_range=0.1,\n",
    "                        height_shift_range=0.1, shear_range=0.2,\n",
    "                        zoom_range=0.2, horizontal_flip=True,\n",
    "                        fill_mode='nearrest')\n",
    "\n",
    "\n",
    "Y = utils.to_categorical(labels, len(label_text))\n",
    "# print(len(Y))\n",
    "# print(img_data)\n",
    "# print(Y)\n",
    "# print(Y.shape)\n",
    "\n",
    "x,y = shuffle(img_data,Y,random_state = 3)\n",
    "# print(x)\n",
    "# print(y)\n",
    "X_train, X_test, y_train, y_test = train_test_split(x, y, test_size=0.2, random_state=2)\n",
    "x_test=X_test\n",
    "\n",
    "plotImages(x[0])\n",
    "print(y[0])\n",
    "\n",
    "aug.fit(X_train)\n",
    "\n",
    "early_stopping = EarlyStopping(\n",
    "    monitor='val_accuracy',\n",
    "    min_delta=0.000005,\n",
    "    patience=11,\n",
    "    verbose=1,\n",
    "    restore_best_weights=True,\n",
    ")\n",
    "\n",
    "lr_scheduler = ReduceLROnPlateau(\n",
    "    monitor='val_accuracy',\n",
    "    factor=0.5,\n",
    "    patience=7,\n",
    "    min_lr=1e-7,\n",
    "    verbose=1,\n",
    ")\n",
    "\n",
    "callbacks = [\n",
    "    early_stopping,\n",
    "    lr_scheduler,\n",
    "]\n",
    "\n",
    "batch_size = 32 #batch size of 32 performs the best.\n",
    "epochs = 100\n",
    "optims = [\n",
    "    Nadam(learning_rate=0.001, beta_1=0.9, beta_2=0.999, epsilon=1e-07, name='Nadam'),\n",
    "    Adam(0.001),\n",
    "]\n",
    "\n",
    "\n",
    "model = create_model(optims[1]) \n",
    "print(\"\\n\\n\\nSummary of model:\")\n",
    "model.summary()\n",
    "print(\"\\n\\n\\nModel Training:\")\n",
    "model.fit(x=X_train, y= y_train, validation_split=0.1, batch_size=32, \n",
    "          epochs=100, shuffle=True, verbose=2, callbacks=callbacks \n",
    "         )"
   ]
  },
  {
   "cell_type": "code",
   "execution_count": 10,
   "metadata": {},
   "outputs": [],
   "source": [
    "# from sklearn.model_selection import KFold"
   ]
  },
  {
   "cell_type": "code",
   "execution_count": 11,
   "metadata": {},
   "outputs": [],
   "source": [
    "# kf = KFold(n_splits=5, shuffle=False)"
   ]
  },
  {
   "cell_type": "markdown",
   "metadata": {},
   "source": [
    "# Model Testing and Prediction"
   ]
  },
  {
   "cell_type": "code",
   "execution_count": 12,
   "metadata": {},
   "outputs": [
    {
     "name": "stdout",
     "output_type": "stream",
     "text": [
      "10/10 [==============================] - 0s 9ms/step\n",
      "[[9.9980599e-01 1.3630250e-07 6.4243368e-06 1.7052225e-04 1.6982820e-05\n",
      "  4.7650961e-08]\n",
      " [3.3037303e-08 1.3873290e-08 7.0641953e-08 4.0781873e-07 7.9908403e-08\n",
      "  9.9999940e-01]\n",
      " [2.2897065e-13 1.0000000e+00 2.2806407e-13 1.0135933e-12 7.7447092e-20\n",
      "  4.5276352e-09]\n",
      " ...\n",
      " [5.7444371e-02 8.5150660e-08 9.4252074e-01 8.7712479e-08 8.0900859e-09\n",
      "  3.4645764e-05]\n",
      " [1.2975913e-01 2.8185556e-07 8.7016821e-01 1.5126722e-07 2.2002645e-08\n",
      "  7.2143950e-05]\n",
      " [5.1245041e-04 6.4682442e-09 3.7785057e-08 3.8103226e-05 9.9944919e-01\n",
      "  2.5064315e-07]]\n",
      "(300, 6)\n"
     ]
    },
    {
     "data": {
      "image/png": "[encoded data removed]",
      "text/plain": [
       "<Figure size 500x500 with 1 Axes>"
      ]
     },
     "metadata": {},
     "output_type": "display_data"
    },
    {
     "name": "stdout",
     "output_type": "stream",
     "text": [
      "Test Loss: 0.09732265770435333\n",
      "Test accuracy: 0.9566666483879089\n",
      "(1, 48, 48, 3)\n",
      "1/1 [==============================] - 0s 28ms/step\n",
      "[[1.2586536e-01 3.0900620e-07 8.7404388e-01 1.8704442e-07 2.8613565e-08\n",
      "  9.0209163e-05]]\n",
      "[[1. 0. 0. 0. 0. 0.]]\n",
      "10/10 [==============================] - 0s 11ms/step\n"
     ]
    },
    {
     "data": {
      "image/png": "[encoded data removed]",
      "text/plain": [
       "<Figure size 500x500 with 1 Axes>"
      ]
     },
     "metadata": {},
     "output_type": "display_data"
    },
    {
     "name": "stdout",
     "output_type": "stream",
     "text": [
      "1/1 [==============================] - 0s 42ms/step\n",
      "[[1.2586536e-01 3.0900620e-07 8.7404388e-01 1.8704442e-07 2.8613565e-08\n",
      "  9.0209163e-05]]\n",
      "drowsy\n",
      "(1, 48, 48, 3)\n"
     ]
    },
    {
     "data": {
      "image/png": "[encoded data removed]",
      "text/plain": [
       "<Figure size 500x500 with 1 Axes>"
      ]
     },
     "metadata": {},
     "output_type": "display_data"
    },
    {
     "name": "stdout",
     "output_type": "stream",
     "text": [
      "1/1 [==============================] - 0s 27ms/step\n",
      "<class 'numpy.ndarray'>\n",
      "[1.2586536e-01 3.0900620e-07 8.7404388e-01 1.8704442e-07 2.8613565e-08\n",
      " 9.0209163e-05]\n",
      "drowsy\n"
     ]
    }
   ],
   "source": [
    "from sklearn.metrics import confusion_matrix\n",
    "from sklearn.metrics import multilabel_confusion_matrix\n",
    "import seaborn as sns\n",
    "import pandas as pd\n",
    "\n",
    "#results = model.predict_classes(X_test)\n",
    "#cm = confusion_matrix(np.where(y_test == 1)[1], results)\n",
    "results = model.predict(X_test)\n",
    "print(results)\n",
    "print(results.shape)\n",
    "# print(X_train)\n",
    "# print(X_train.shape)\n",
    "# print(x_test)\n",
    "# print(x_test.shape)\n",
    "# print(y_train)\n",
    "# print(y_train.shape)\n",
    "# print(y_test)\n",
    "# print(y_test.shape)\n",
    "predicted_classes = np.argmax(results, axis=1)\n",
    "\n",
    "# Assuming your y_test is one-hot encoded, use np.argmax to get the true classes\n",
    "true_classes = np.argmax(y_test, axis=1)\n",
    "\n",
    "# Calculate confusion matrix\n",
    "cm = confusion_matrix(true_classes, predicted_classes)\n",
    "\n",
    "label_mapdisgust = ['bored','confused','drowsy','frustrated','interested','Looking Away']\n",
    "cm_df = pd.DataFrame(cm, index = label_mapdisgust,\n",
    "                     columns = label_mapdisgust\n",
    "                    )\n",
    "plt.figure(figsize = (5,5))\n",
    "sns.heatmap(cm, annot = True,cmap='Greys',cbar=False,linewidth=2,fmt='d')\n",
    "plt.title('CNN Emotion Classify')\n",
    "plt.ylabel('True class')\n",
    "plt.xlabel('Prediction class')\n",
    "plt.show()\n",
    "\n",
    "score = model.evaluate(X_test, y_test, verbose=0)\n",
    "print('Test Loss:', score[0])\n",
    "print('Test accuracy:', score[1])\n",
    "\n",
    "test_image = X_test[3:4]\n",
    "print (test_image.shape)\n",
    "\n",
    "print(model.predict(test_image))\n",
    "#print(model.predict_classes(test_image))\n",
    "print(y_test[3:4])\n",
    "\n",
    "#predict\n",
    "y_pred = model.predict(X_test)\n",
    "y_pred = (y_pred>0.5)\n",
    "multilabel_confusion_matrix(y_test, y_pred )\n",
    "\n",
    "plotImages(X_test[3])\n",
    "predictions = model.predict(test_image)\n",
    "print(predictions)\n",
    "ans = np.argmax(predictions)\n",
    "print(label_text[ans])\n",
    "\n",
    "\n",
    "test_img = X_test[1:2]\n",
    "print(test_img.shape)\n",
    "plotImages(X_test[1])\n",
    "predictions = (model.predict(test_image)[0])\n",
    "ans = np.argmax(predictions)\n",
    "print(type(predictions))\n",
    "print(predictions)\n",
    "print(label_text[ans])"
   ]
  },
  {
   "cell_type": "code",
   "execution_count": 13,
   "metadata": {},
   "outputs": [],
   "source": [
    "# for dataset in data_dir_list:\n",
    "#     img_list = os.listdir(data_path+'/'+dataset)\n",
    "#     print('number of images in '+str(dataset)+' = ',len(img_list))"
   ]
  },
  {
   "cell_type": "markdown",
   "metadata": {},
   "source": [
    "# Saving model"
   ]
  },
  {
   "cell_type": "code",
   "execution_count": 14,
   "metadata": {},
   "outputs": [],
   "source": [
    "from tensorflow.keras.models import load_model\n",
    "z=load_model('model1.h5')\n",
    "zscore=z.evaluate(X_test, y_test, verbose=0)\n",
    "if((os.path.isfile('model.h5') is False)or(score[1]>zscore[1])):\n",
    "    model.save('model1.h5')"
   ]
  },
  {
   "cell_type": "code",
   "execution_count": 15,
   "metadata": {},
   "outputs": [
    {
     "name": "stdout",
     "output_type": "stream",
     "text": [
      "10/10 [==============================] - 0s 7ms/step - loss: 0.0973 - accuracy: 0.9567\n"
     ]
    },
    {
     "data": {
      "text/plain": [
       "0.9566666483879089"
      ]
     },
     "execution_count": 15,
     "metadata": {},
     "output_type": "execute_result"
    }
   ],
   "source": [
    "z=model.evaluate(x_test,y_test)\n",
    "z[1]"
   ]
  },
  {
   "cell_type": "code",
   "execution_count": null,
   "metadata": {},
   "outputs": [],
   "source": []
  },
  {
   "cell_type": "code",
   "execution_count": null,
   "metadata": {},
   "outputs": [],
   "source": []
  }
 ],
 "metadata": {
  "kernelspec": {
   "display_name": "Python 3 (ipykernel)",
   "language": "python",
   "name": "python3"
  },
  "language_info": {
   "codemirror_mode": {
    "name": "ipython",
    "version": 3
   },
   "file_extension": ".py",
   "mimetype": "text/x-python",
   "name": "python",
   "nbconvert_exporter": "python",
   "pygments_lexer": "ipython3",
   "version": "3.11.5"
  }
 },
 "nbformat": 4,
 "nbformat_minor": 4
}
